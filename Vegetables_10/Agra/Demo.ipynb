{
 "cells": [
  {
   "cell_type": "markdown",
   "metadata": {},
   "source": [
    "# Data Preprocessing for Climate Data \n"
   ]
  },
  {
   "cell_type": "code",
   "execution_count": 25,
   "metadata": {},
   "outputs": [],
   "source": [
    "import numpy as np\n",
    "import matplotlib.pyplot as plt\n",
    "import seaborn as sns\n",
    "import pandas as pd"
   ]
  },
  {
   "cell_type": "code",
   "execution_count": 26,
   "metadata": {},
   "outputs": [],
   "source": [
    "%matplotlib inline"
   ]
  },
  {
   "cell_type": "markdown",
   "metadata": {},
   "source": [
    "# Reading Dataset\n",
    "### Dates which are present in the vegetable dataset those only consider for processing"
   ]
  },
  {
   "cell_type": "code",
   "execution_count": 27,
   "metadata": {},
   "outputs": [
    {
     "data": {
      "text/plain": [
       "287"
      ]
     },
     "execution_count": 27,
     "metadata": {},
     "output_type": "execute_result"
    }
   ],
   "source": [
    "climate = pd.read_csv('Uttar_pradesh.csv')\n",
    "vegetables = pd.read_csv('Agra_Potato1.csv')\n",
    "climate.head()\n",
    "len(vegetables)"
   ]
  },
  {
   "cell_type": "markdown",
   "metadata": {},
   "source": [
    "# String is converted into Required Format "
   ]
  },
  {
   "cell_type": "code",
   "execution_count": 28,
   "metadata": {},
   "outputs": [
    {
     "data": {
      "text/html": [
       "<div>\n",
       "<style scoped>\n",
       "    .dataframe tbody tr th:only-of-type {\n",
       "        vertical-align: middle;\n",
       "    }\n",
       "\n",
       "    .dataframe tbody tr th {\n",
       "        vertical-align: top;\n",
       "    }\n",
       "\n",
       "    .dataframe thead th {\n",
       "        text-align: right;\n",
       "    }\n",
       "</style>\n",
       "<table border=\"1\" class=\"dataframe\">\n",
       "  <thead>\n",
       "    <tr style=\"text-align: right;\">\n",
       "      <th></th>\n",
       "      <th>Year</th>\n",
       "      <th>Month</th>\n",
       "      <th>Date</th>\n",
       "      <th>Temp_Max</th>\n",
       "      <th>Temp_Avg</th>\n",
       "      <th>Temp_Min</th>\n",
       "      <th>Dew_Max</th>\n",
       "      <th>Dew_Avg</th>\n",
       "      <th>Dew_Min</th>\n",
       "      <th>Humid_Max</th>\n",
       "      <th>Humid_Avg</th>\n",
       "      <th>Humid_Min</th>\n",
       "      <th>Wind_Max</th>\n",
       "      <th>Wind_Avg</th>\n",
       "      <th>Wind_Min</th>\n",
       "      <th>Pressure_Max</th>\n",
       "      <th>Pressure_Avg</th>\n",
       "      <th>Pressure_Min</th>\n",
       "      <th>Precipitation_Total</th>\n",
       "      <th>Date Format</th>\n",
       "    </tr>\n",
       "  </thead>\n",
       "  <tbody>\n",
       "    <tr>\n",
       "      <th>0</th>\n",
       "      <td>2019</td>\n",
       "      <td>Jan</td>\n",
       "      <td>1</td>\n",
       "      <td>65</td>\n",
       "      <td>52.8</td>\n",
       "      <td>40</td>\n",
       "      <td>50</td>\n",
       "      <td>44.5</td>\n",
       "      <td>40</td>\n",
       "      <td>100</td>\n",
       "      <td>77.5</td>\n",
       "      <td>47</td>\n",
       "      <td>5</td>\n",
       "      <td>1.5</td>\n",
       "      <td>0</td>\n",
       "      <td>0</td>\n",
       "      <td>0</td>\n",
       "      <td>0</td>\n",
       "      <td>0.0</td>\n",
       "      <td>2019-01-01</td>\n",
       "    </tr>\n",
       "    <tr>\n",
       "      <th>1</th>\n",
       "      <td>2019</td>\n",
       "      <td>Jan</td>\n",
       "      <td>2</td>\n",
       "      <td>67</td>\n",
       "      <td>56.5</td>\n",
       "      <td>44</td>\n",
       "      <td>50</td>\n",
       "      <td>47.5</td>\n",
       "      <td>44</td>\n",
       "      <td>100</td>\n",
       "      <td>75.8</td>\n",
       "      <td>48</td>\n",
       "      <td>6</td>\n",
       "      <td>2.3</td>\n",
       "      <td>0</td>\n",
       "      <td>0</td>\n",
       "      <td>0</td>\n",
       "      <td>0</td>\n",
       "      <td>0.0</td>\n",
       "      <td>2019-01-02</td>\n",
       "    </tr>\n",
       "    <tr>\n",
       "      <th>2</th>\n",
       "      <td>2019</td>\n",
       "      <td>Jan</td>\n",
       "      <td>3</td>\n",
       "      <td>65</td>\n",
       "      <td>54.3</td>\n",
       "      <td>44</td>\n",
       "      <td>52</td>\n",
       "      <td>48.0</td>\n",
       "      <td>44</td>\n",
       "      <td>100</td>\n",
       "      <td>81.5</td>\n",
       "      <td>62</td>\n",
       "      <td>7</td>\n",
       "      <td>3.3</td>\n",
       "      <td>0</td>\n",
       "      <td>0</td>\n",
       "      <td>0</td>\n",
       "      <td>0</td>\n",
       "      <td>0.0</td>\n",
       "      <td>2019-01-03</td>\n",
       "    </tr>\n",
       "    <tr>\n",
       "      <th>3</th>\n",
       "      <td>2019</td>\n",
       "      <td>Jan</td>\n",
       "      <td>4</td>\n",
       "      <td>67</td>\n",
       "      <td>55.8</td>\n",
       "      <td>44</td>\n",
       "      <td>47</td>\n",
       "      <td>44.0</td>\n",
       "      <td>42</td>\n",
       "      <td>100</td>\n",
       "      <td>71.3</td>\n",
       "      <td>40</td>\n",
       "      <td>5</td>\n",
       "      <td>2.5</td>\n",
       "      <td>1</td>\n",
       "      <td>0</td>\n",
       "      <td>0</td>\n",
       "      <td>0</td>\n",
       "      <td>0.0</td>\n",
       "      <td>2019-01-04</td>\n",
       "    </tr>\n",
       "    <tr>\n",
       "      <th>4</th>\n",
       "      <td>2019</td>\n",
       "      <td>Jan</td>\n",
       "      <td>5</td>\n",
       "      <td>67</td>\n",
       "      <td>58.3</td>\n",
       "      <td>51</td>\n",
       "      <td>52</td>\n",
       "      <td>49.0</td>\n",
       "      <td>44</td>\n",
       "      <td>100</td>\n",
       "      <td>75.8</td>\n",
       "      <td>50</td>\n",
       "      <td>8</td>\n",
       "      <td>3.5</td>\n",
       "      <td>1</td>\n",
       "      <td>0</td>\n",
       "      <td>0</td>\n",
       "      <td>0</td>\n",
       "      <td>0.0</td>\n",
       "      <td>2019-01-05</td>\n",
       "    </tr>\n",
       "  </tbody>\n",
       "</table>\n",
       "</div>"
      ],
      "text/plain": [
       "   Year Month  Date  Temp_Max  Temp_Avg  Temp_Min  Dew_Max  Dew_Avg  Dew_Min  \\\n",
       "0  2019   Jan     1        65      52.8        40       50     44.5       40   \n",
       "1  2019   Jan     2        67      56.5        44       50     47.5       44   \n",
       "2  2019   Jan     3        65      54.3        44       52     48.0       44   \n",
       "3  2019   Jan     4        67      55.8        44       47     44.0       42   \n",
       "4  2019   Jan     5        67      58.3        51       52     49.0       44   \n",
       "\n",
       "   Humid_Max  Humid_Avg  Humid_Min  Wind_Max  Wind_Avg  Wind_Min  \\\n",
       "0        100       77.5         47         5       1.5         0   \n",
       "1        100       75.8         48         6       2.3         0   \n",
       "2        100       81.5         62         7       3.3         0   \n",
       "3        100       71.3         40         5       2.5         1   \n",
       "4        100       75.8         50         8       3.5         1   \n",
       "\n",
       "   Pressure_Max  Pressure_Avg  Pressure_Min  Precipitation_Total Date Format  \n",
       "0             0             0             0                  0.0  2019-01-01  \n",
       "1             0             0             0                  0.0  2019-01-02  \n",
       "2             0             0             0                  0.0  2019-01-03  \n",
       "3             0             0             0                  0.0  2019-01-04  \n",
       "4             0             0             0                  0.0  2019-01-05  "
      ]
     },
     "execution_count": 28,
     "metadata": {},
     "output_type": "execute_result"
    }
   ],
   "source": [
    "climate['Date Format'] = climate['Year'].map(str) + \"-\" + climate['Month'].astype(str) + \"-\" + climate['Date'].astype(str)\n",
    "climate['Date Format'] = pd.to_datetime(climate['Date Format'])\n",
    "climate.head()"
   ]
  },
  {
   "cell_type": "code",
   "execution_count": 29,
   "metadata": {},
   "outputs": [
    {
     "name": "stdout",
     "output_type": "stream",
     "text": [
      "<class 'pandas.core.frame.DataFrame'>\n",
      "RangeIndex: 630 entries, 0 to 629\n",
      "Data columns (total 20 columns):\n",
      "Year                   630 non-null int64\n",
      "Month                  630 non-null object\n",
      "Date                   630 non-null int64\n",
      "Temp_Max               630 non-null int64\n",
      "Temp_Avg               630 non-null float64\n",
      "Temp_Min               630 non-null int64\n",
      "Dew_Max                630 non-null int64\n",
      "Dew_Avg                630 non-null float64\n",
      "Dew_Min                630 non-null int64\n",
      "Humid_Max              630 non-null int64\n",
      "Humid_Avg              630 non-null float64\n",
      "Humid_Min              630 non-null int64\n",
      "Wind_Max               630 non-null int64\n",
      "Wind_Avg               630 non-null float64\n",
      "Wind_Min               630 non-null int64\n",
      "Pressure_Max           630 non-null int64\n",
      "Pressure_Avg           630 non-null int64\n",
      "Pressure_Min           630 non-null int64\n",
      "Precipitation_Total    630 non-null float64\n",
      "Date Format            630 non-null datetime64[ns]\n",
      "dtypes: datetime64[ns](1), float64(5), int64(13), object(1)\n",
      "memory usage: 96.0+ KB\n"
     ]
    }
   ],
   "source": [
    "vegetables.head()\n",
    "vegetables.shape\n",
    "climate.info()"
   ]
  },
  {
   "cell_type": "code",
   "execution_count": 30,
   "metadata": {},
   "outputs": [
    {
     "data": {
      "text/html": [
       "<div>\n",
       "<style scoped>\n",
       "    .dataframe tbody tr th:only-of-type {\n",
       "        vertical-align: middle;\n",
       "    }\n",
       "\n",
       "    .dataframe tbody tr th {\n",
       "        vertical-align: top;\n",
       "    }\n",
       "\n",
       "    .dataframe thead th {\n",
       "        text-align: right;\n",
       "    }\n",
       "</style>\n",
       "<table border=\"1\" class=\"dataframe\">\n",
       "  <thead>\n",
       "    <tr style=\"text-align: right;\">\n",
       "      <th></th>\n",
       "      <th>Sl no.</th>\n",
       "      <th>District Name</th>\n",
       "      <th>Market Name</th>\n",
       "      <th>Commodity</th>\n",
       "      <th>Variety</th>\n",
       "      <th>Grade</th>\n",
       "      <th>Min Price (Rs./Quintal)</th>\n",
       "      <th>Max Price (Rs./Quintal)</th>\n",
       "      <th>Modal Price (Rs./Quintal)</th>\n",
       "      <th>Price Date</th>\n",
       "    </tr>\n",
       "  </thead>\n",
       "  <tbody>\n",
       "    <tr>\n",
       "      <th>0</th>\n",
       "      <td>1</td>\n",
       "      <td>Agra</td>\n",
       "      <td>Agra</td>\n",
       "      <td>Potato</td>\n",
       "      <td>Desi</td>\n",
       "      <td>FAQ</td>\n",
       "      <td>1380</td>\n",
       "      <td>1550</td>\n",
       "      <td>1450</td>\n",
       "      <td>31-Dec-19</td>\n",
       "    </tr>\n",
       "    <tr>\n",
       "      <th>1</th>\n",
       "      <td>2</td>\n",
       "      <td>Agra</td>\n",
       "      <td>Agra</td>\n",
       "      <td>Potato</td>\n",
       "      <td>Desi</td>\n",
       "      <td>FAQ</td>\n",
       "      <td>1300</td>\n",
       "      <td>1450</td>\n",
       "      <td>1380</td>\n",
       "      <td>30-Dec-19</td>\n",
       "    </tr>\n",
       "    <tr>\n",
       "      <th>2</th>\n",
       "      <td>3</td>\n",
       "      <td>Agra</td>\n",
       "      <td>Agra</td>\n",
       "      <td>Potato</td>\n",
       "      <td>Desi</td>\n",
       "      <td>FAQ</td>\n",
       "      <td>1400</td>\n",
       "      <td>1550</td>\n",
       "      <td>1480</td>\n",
       "      <td>28-Dec-19</td>\n",
       "    </tr>\n",
       "    <tr>\n",
       "      <th>3</th>\n",
       "      <td>4</td>\n",
       "      <td>Agra</td>\n",
       "      <td>Agra</td>\n",
       "      <td>Potato</td>\n",
       "      <td>Desi</td>\n",
       "      <td>FAQ</td>\n",
       "      <td>1350</td>\n",
       "      <td>1550</td>\n",
       "      <td>1450</td>\n",
       "      <td>27-Dec-19</td>\n",
       "    </tr>\n",
       "    <tr>\n",
       "      <th>4</th>\n",
       "      <td>5</td>\n",
       "      <td>Agra</td>\n",
       "      <td>Agra</td>\n",
       "      <td>Potato</td>\n",
       "      <td>Desi</td>\n",
       "      <td>FAQ</td>\n",
       "      <td>1350</td>\n",
       "      <td>1550</td>\n",
       "      <td>1440</td>\n",
       "      <td>26-Dec-19</td>\n",
       "    </tr>\n",
       "  </tbody>\n",
       "</table>\n",
       "</div>"
      ],
      "text/plain": [
       "   Sl no. District Name Market Name Commodity Variety Grade  \\\n",
       "0       1          Agra        Agra    Potato    Desi   FAQ   \n",
       "1       2          Agra        Agra    Potato    Desi   FAQ   \n",
       "2       3          Agra        Agra    Potato    Desi   FAQ   \n",
       "3       4          Agra        Agra    Potato    Desi   FAQ   \n",
       "4       5          Agra        Agra    Potato    Desi   FAQ   \n",
       "\n",
       "   Min Price (Rs./Quintal)  Max Price (Rs./Quintal)  \\\n",
       "0                     1380                     1550   \n",
       "1                     1300                     1450   \n",
       "2                     1400                     1550   \n",
       "3                     1350                     1550   \n",
       "4                     1350                     1550   \n",
       "\n",
       "   Modal Price (Rs./Quintal) Price Date  \n",
       "0                       1450  31-Dec-19  \n",
       "1                       1380  30-Dec-19  \n",
       "2                       1480  28-Dec-19  \n",
       "3                       1450  27-Dec-19  \n",
       "4                       1440  26-Dec-19  "
      ]
     },
     "execution_count": 30,
     "metadata": {},
     "output_type": "execute_result"
    }
   ],
   "source": [
    "vegetables = vegetables[vegetables['District Name'] == \"Agra\"]\n",
    "vegetables = vegetables[vegetables['Market Name'] == \"Agra\"]\n",
    "vegetables.head()"
   ]
  },
  {
   "cell_type": "markdown",
   "metadata": {},
   "source": [
    "# Function to generate dates "
   ]
  },
  {
   "cell_type": "code",
   "execution_count": 31,
   "metadata": {},
   "outputs": [
    {
     "data": {
      "text/plain": [
       "DatetimeIndex(['2019-01-01', '2019-01-02'], dtype='datetime64[ns]', freq='D')"
      ]
     },
     "execution_count": 31,
     "metadata": {},
     "output_type": "execute_result"
    }
   ],
   "source": [
    "pd.date_range(end='1/2/2019', periods= 2)\n",
    "#pd.date_range(start=\"24/1/2018\",freq='4M', periods= 2)"
   ]
  },
  {
   "cell_type": "code",
   "execution_count": 32,
   "metadata": {},
   "outputs": [],
   "source": [
    "vegetables['Price Date'] = pd.to_datetime(vegetables['Price Date'])\n",
    "vegetables = vegetables.iloc[::-1]\n",
    "#vegetables.head(10)"
   ]
  },
  {
   "cell_type": "markdown",
   "metadata": {},
   "source": [
    "# Logic for averaging all parameters"
   ]
  },
  {
   "cell_type": "code",
   "execution_count": 33,
   "metadata": {
    "scrolled": false
   },
   "outputs": [],
   "source": [
    "final = []\n",
    "days_required = 210.0\n",
    "for row1 in vegetables['Price Date']:\n",
    "    Temp_Avg, Dew_Avg,Humid_Avg,Wind_Avg,Pressure_Avg, Precipitation_Total = 0.0,0.0,0.0,0.0,0.0,0.0\n",
    "    Temp_Max, Temp_Min, Dew_Max, Dew_Min, Humid_Max, Humid_Min,Wind_Max, Wind_Min, Pressure_Max, Pressure_Min = 0.0,0.0,0.0,0.0,0.0,0.0,0.0,0.0,0.0,0.0\n",
    "    for row2 in pd.date_range(end=row1, periods= days_required):\n",
    "        try:\n",
    "            temp = climate[climate['Date Format'] == row2]\n",
    "            \n",
    "            Temp_Max += float(temp['Temp_Max'])\n",
    "            Temp_Avg += float(temp['Temp_Avg'])\n",
    "            Temp_Min += float(temp['Temp_Min'])\n",
    "        \n",
    "            Dew_Max += float(temp['Dew_Max'])\n",
    "            Dew_Avg += float(temp['Dew_Avg'])\n",
    "            Dew_Min += float(temp['Dew_Min'])\n",
    "        \n",
    "            Humid_Max += float(temp['Humid_Max'])\n",
    "            Humid_Avg += float(temp['Humid_Avg'])\n",
    "            Humid_Min += float(temp['Humid_Min'])\n",
    "        \n",
    "            Wind_Max += float(temp['Wind_Max'])\n",
    "            Wind_Avg += float(temp['Wind_Avg'])\n",
    "            Wind_Min += float(temp['Wind_Min'])\n",
    "        \n",
    "            Pressure_Avg += float(temp['Pressure_Avg'])\n",
    "        \n",
    "            Precipitation_Total += float(temp['Precipitation_Total'])\n",
    "        except:\n",
    "            continue\n",
    "        \n",
    "    final.append([row1,Temp_Max/days_required,Temp_Avg / days_required, Temp_Min / days_required,Dew_Min/ days_required,Dew_Avg/ days_required, Dew_Min/ days_required, Humid_Max/ days_required,Humid_Avg/ days_required, Humid_Min/ days_required, Wind_Max/ days_required, Wind_Avg/ days_required, Wind_Min/ days_required, Pressure_Max/ days_required, Pressure_Avg/ days_required, Pressure_Min/ days_required, Precipitation_Total/ days_required])"
   ]
  },
  {
   "cell_type": "code",
   "execution_count": 15,
   "metadata": {},
   "outputs": [
    {
     "ename": "IndentationError",
     "evalue": "unexpected indent (<ipython-input-15-571111d8b775>, line 3)",
     "output_type": "error",
     "traceback": [
      "\u001b[1;36m  File \u001b[1;32m\"<ipython-input-15-571111d8b775>\"\u001b[1;36m, line \u001b[1;32m3\u001b[0m\n\u001b[1;33m    Temp_Avg += float(temp['Temp_Avg'])\u001b[0m\n\u001b[1;37m    ^\u001b[0m\n\u001b[1;31mIndentationError\u001b[0m\u001b[1;31m:\u001b[0m unexpected indent\n"
     ]
    }
   ],
   "source": [
    "final\n",
    "Temp_Max += float(temp['Temp_Max'])\n",
    "            Temp_Avg += float(temp['Temp_Avg'])\n",
    "            Temp_Min += float(temp['Temp_Min'])\n",
    "        \n",
    "            Dew_Max += float(temp['Dew_Max'])\n",
    "            Dew_Avg += float(temp['Dew_Avg'])\n",
    "            Dew_Min += float(temp['Dew_Min'])\n",
    "        \n",
    "            Humid_Max += float(temp['Humid_Max'])\n",
    "            Humid_Avg += float(temp['Humid_Avg'])\n",
    "            Humid_Min += float(temp['Humid_Min'])\n",
    "        \n",
    "            Wind_Max += float(temp['Wind_Max'])\n",
    "            Wind_Avg += float(temp['Wind_Avg'])\n",
    "            Wind_Min += float(temp['Wind_Min'])\n",
    "        \n",
    "            Pressure_Avg += float(temp['Pressure_Avg'])\n",
    "        \n",
    "            Precipitation_Total += float(temp['Precipitation_Total'])"
   ]
  },
  {
   "cell_type": "code",
   "execution_count": null,
   "metadata": {},
   "outputs": [],
   "source": [
    "len(final)"
   ]
  },
  {
   "cell_type": "code",
   "execution_count": null,
   "metadata": {},
   "outputs": [],
   "source": [
    "final"
   ]
  },
  {
   "cell_type": "code",
   "execution_count": null,
   "metadata": {},
   "outputs": [],
   "source": [
    "df = pd.DataFrame(data = final, columns = ['Date','Temp_Max', 'Temp_Avg', 'Temp_Min', 'Dew_Max', 'Dew_Avg', 'Dew_Min', 'Humid_Max', 'Humid_Avg','Humid_Min','Wind_Max','Wind_Avg','Wind_Min','Pressure_Max', 'Pressure_Avg','Pressure_Min', 'Precipitation_Total'])"
   ]
  },
  {
   "cell_type": "markdown",
   "metadata": {},
   "source": [
    "# CSV File is generated here "
   ]
  },
  {
   "cell_type": "code",
   "execution_count": 1,
   "metadata": {},
   "outputs": [
    {
     "ename": "NameError",
     "evalue": "name 'df' is not defined",
     "output_type": "error",
     "traceback": [
      "\u001b[1;31m---------------------------------------------------------------------------\u001b[0m",
      "\u001b[1;31mNameError\u001b[0m                                 Traceback (most recent call last)",
      "\u001b[1;32m<ipython-input-1-679b08d50b43>\u001b[0m in \u001b[0;36m<module>\u001b[1;34m\u001b[0m\n\u001b[0;32m      1\u001b[0m \u001b[1;31m#df.to_csv('climate_Agra_Potato_210.csv')\u001b[0m\u001b[1;33m\u001b[0m\u001b[1;33m\u001b[0m\u001b[1;33m\u001b[0m\u001b[0m\n\u001b[1;32m----> 2\u001b[1;33m \u001b[0mdf\u001b[0m\u001b[1;33m.\u001b[0m\u001b[0mcolumns\u001b[0m\u001b[1;33m\u001b[0m\u001b[1;33m\u001b[0m\u001b[0m\n\u001b[0m",
      "\u001b[1;31mNameError\u001b[0m: name 'df' is not defined"
     ]
    }
   ],
   "source": [
    "#df.to_csv('climate_Agra_Potato_210.csv') \n",
    "df.columns"
   ]
  },
  {
   "cell_type": "code",
   "execution_count": null,
   "metadata": {},
   "outputs": [],
   "source": [
    "#for row2 in pd.date_range(end=row1, periods= days_required):\n",
    "        #temp = climate[climate['Date Format'] == row2]\n",
    "        #print(row2)\n",
    "        '''Temp_Avg += int(temp['Temp_Avg'])\n",
    "        Dew_Avg += int(temp['Dew_Avg'])\n",
    "        Humid_Avg += int(temp['Humid_Avg'])\n",
    "        Wind_Avg += int(temp['Wind_Avg']) \n",
    "        Pressure_Avg += int(temp['Pressure_Avg'])\n",
    "        Precipitation_Total += int(temp['Precipitation_Total'])\n",
    "    final.append([row1,Temp_Avg / month_required, Dew_Avg/month_required, Humid_Avg/month_required, Wind_Avg/month_required, Pressure_Avg/month_required,Precipitation_Total/month_required])'''\n",
    "'''for row1 in vegetables['Price Date']:\n",
    "    Temp_Avg, Dew_Avg,Humid_Avg,Wind_Avg,Pressure_Avg, Precipitation_Total = 0,0,0,0,0,0\n",
    "    temp = climate[climate['Date Format'] == row1]\n",
    "    print(temp)'''\n",
    "'''\n",
    "Temp_Max += temp['Temp_Max'].astype(float)\n",
    "        Temp_Avg += temp['Temp_Avg'].astype(float)\n",
    "        Temp_Min += temp['Temp_Min'].astype(float)\n",
    "        \n",
    "        Dew_Max += temp['Dew_Max'].astype(float)\n",
    "        Dew_Avg += temp['Dew_Avg'].astype(float)\n",
    "        Dew_Min += temp['Dew_Min'].astype(float)\n",
    "        \n",
    "        Humid_Max += temp['Humid_Max'].astype(float)\n",
    "        Humid_Avg += temp['Humid_Avg'].astype(float)\n",
    "        Humid_Min += temp['Humid_Min'].astype(float)\n",
    "        \n",
    "        Wind_Max += temp['Wind_Max'].astype(float)\n",
    "        Wind_Avg += temp['Wind_Avg'].astype(float)\n",
    "        Wind_Min += temp['Wind_Min'].astype(float)\n",
    "        \n",
    "        Pressure_Avg += temp['Pressure_Avg'].astype(float)\n",
    "        \n",
    "        Precipitation_Total += temp['Precipitation_Total'].astype(float)\n",
    "    final.append([row1,Temp_Max/days_required,Temp_Avg / days_required, Temp_Min / days_required,Dew_Min/ days_required,Dew_Avg/ days_required, Dew_Min/ days_required, Humid_Max/ days_required,Humid_Avg/ days_required, Humid_Min/ days_required, Wind_Max/ days_required, Wind_Avg/ days_required, Wind_Min/ days_required, Pressure_Max/ days_required, Pressure_Avg/ days_required, Pressure_Min/ days_required, Precipitation_Total/ days_required])\n",
    "    \n",
    "Temp_Max += int(temp['Temp_Max'])\n",
    "        Temp_Avg += int(temp['Temp_Avg'])\n",
    "        Temp_Min += int(temp['Temp_Min'])\n",
    "        \n",
    "        Dew_Max += int(temp['Dew_Max'])\n",
    "        Dew_Avg += int(temp['Dew_Avg'])\n",
    "        Dew_Min += int(temp['Dew_Min'])\n",
    "        \n",
    "        Humid_Max += int(temp['Humid_Max'])\n",
    "        Humid_Avg += int(temp['Humid_Avg'])\n",
    "        Humid_Min += int(temp['Humid_Min'])\n",
    "        \n",
    "        Wind_Max += int(temp['Wind_Max'])\n",
    "        Wind_Avg += int(temp['Wind_Avg'])\n",
    "        Wind_Min += int(temp['Wind_Min'])\n",
    "        \n",
    "        Pressure_Avg += int(temp['Pressure_Avg'])\n",
    "        \n",
    "        Precipitation_Total += int(temp['Precipitation_Total'])\n",
    "'''"
   ]
  }
 ],
 "metadata": {
  "kernelspec": {
   "display_name": "Python 3",
   "language": "python",
   "name": "python3"
  },
  "language_info": {
   "codemirror_mode": {
    "name": "ipython",
    "version": 3
   },
   "file_extension": ".py",
   "mimetype": "text/x-python",
   "name": "python",
   "nbconvert_exporter": "python",
   "pygments_lexer": "ipython3",
   "version": "3.8.1"
  }
 },
 "nbformat": 4,
 "nbformat_minor": 2
}
