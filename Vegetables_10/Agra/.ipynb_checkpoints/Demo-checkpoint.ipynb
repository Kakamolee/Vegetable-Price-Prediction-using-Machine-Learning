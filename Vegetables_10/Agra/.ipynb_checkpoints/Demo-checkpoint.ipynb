{
 "cells": [
  {
   "cell_type": "markdown",
   "metadata": {},
   "source": [
    "# Data Preprocessing for Climate Data \n"
   ]
  },
  {
   "cell_type": "code",
   "execution_count": null,
   "metadata": {},
   "outputs": [],
   "source": [
    "import numpy as np\n",
    "import matplotlib.pyplot as plt\n",
    "import seaborn as sns\n",
    "import pandas as pd"
   ]
  },
  {
   "cell_type": "code",
   "execution_count": null,
   "metadata": {},
   "outputs": [],
   "source": [
    "%matplotlib inline"
   ]
  },
  {
   "cell_type": "markdown",
   "metadata": {},
   "source": [
    "# Reading Dataset\n",
    "### Dates which are present in the vegetable dataset those only consider for processing"
   ]
  },
  {
   "cell_type": "code",
   "execution_count": null,
   "metadata": {},
   "outputs": [],
   "source": [
    "climate = pd.read_csv('Uttar_pradesh.csv')\n",
    "vegetables = pd.read_csv('Agra.csv')\n",
    "climate.head()\n",
    "len(vegetables)"
   ]
  },
  {
   "cell_type": "markdown",
   "metadata": {},
   "source": [
    "# String is converted into Required Format "
   ]
  },
  {
   "cell_type": "code",
   "execution_count": null,
   "metadata": {},
   "outputs": [],
   "source": [
    "climate['Date Format'] = climate['Year'].map(str) + \"-\" + climate['Month'].astype(str) + \"-\" + climate['Date'].astype(str)\n",
    "climate['Date Format'] = pd.to_datetime(climate['Date Format'])\n",
    "climate.head()"
   ]
  },
  {
   "cell_type": "code",
   "execution_count": null,
   "metadata": {},
   "outputs": [],
   "source": [
    "vegetables.head()\n",
    "vegetables.shape\n",
    "climate.info()"
   ]
  },
  {
   "cell_type": "code",
   "execution_count": null,
   "metadata": {},
   "outputs": [],
   "source": [
    "vegetables = vegetables[vegetables['District Name'] == \"Agra\"]\n",
    "vegetables = vegetables[vegetables['Market Name'] == \"Agra\"]\n",
    "vegetables.head()"
   ]
  },
  {
   "cell_type": "markdown",
   "metadata": {},
   "source": [
    "# Function to generate dates "
   ]
  },
  {
   "cell_type": "code",
   "execution_count": null,
   "metadata": {},
   "outputs": [],
   "source": [
    "pd.date_range(end='1/2/2019', periods= 2)\n",
    "#pd.date_range(start=\"24/1/2018\",freq='4M', periods= 2)"
   ]
  },
  {
   "cell_type": "code",
   "execution_count": null,
   "metadata": {},
   "outputs": [],
   "source": [
    "vegetables['Price Date'] = pd.to_datetime(vegetables['Price Date'])\n",
    "vegetables = vegetables.iloc[::-1]\n",
    "#vegetables.head(10)"
   ]
  },
  {
   "cell_type": "markdown",
   "metadata": {},
   "source": [
    "# Logic for averaging all parameters"
   ]
  },
  {
   "cell_type": "code",
   "execution_count": null,
   "metadata": {
    "scrolled": false
   },
   "outputs": [],
   "source": [
    "final = []\n",
    "days_required = 210.0\n",
    "for row1 in vegetables['Price Date']:\n",
    "    Temp_Avg, Dew_Avg,Humid_Avg,Wind_Avg,Pressure_Avg, Precipitation_Total = 0.0,0.0,0.0,0.0,0.0,0.0\n",
    "    Temp_Max, Temp_Min, Dew_Max, Dew_Min, Humid_Max, Humid_Min,Wind_Max, Wind_Min, Pressure_Max, Pressure_Min = 0.0,0.0,0.0,0.0,0.0,0.0,0.0,0.0,0.0,0.0\n",
    "    print(row1)\n",
    "    for row2 in pd.date_range(end=row1, periods= days_required):\n",
    "        try:\n",
    "            temp = climate[climate['D\n",
    "                                   ate Format'] == row2]\n",
    "            \n",
    "            print(row2)\n",
    "            print(\"-----------\")\n",
    "            print(pd.date_range(end=row1, periods= days_required))\n",
    "            input()\n",
    "        except:\n",
    "            continue\n",
    "        \n",
    "    final.append([row1,Temp_Max/days_required,Temp_Avg / days_required, Temp_Min / days_required,Dew_Min/ days_required,Dew_Avg/ days_required, Dew_Min/ days_required, Humid_Max/ days_required,Humid_Avg/ days_required, Humid_Min/ days_required, Wind_Max/ days_required, Wind_Avg/ days_required, Wind_Min/ days_required, Pressure_Max/ days_required, Pressure_Avg/ days_required, Pressure_Min/ days_required, Precipitation_Total/ days_required])"
   ]
  },
  {
   "cell_type": "code",
   "execution_count": null,
   "metadata": {},
   "outputs": [],
   "source": [
    "final\n",
    "Temp_Max += float(temp['Temp_Max'])\n",
    "            Temp_Avg += float(temp['Temp_Avg'])\n",
    "            Temp_Min += float(temp['Temp_Min'])\n",
    "        \n",
    "            Dew_Max += float(temp['Dew_Max'])\n",
    "            Dew_Avg += float(temp['Dew_Avg'])\n",
    "            Dew_Min += float(temp['Dew_Min'])\n",
    "        \n",
    "            Humid_Max += float(temp['Humid_Max'])\n",
    "            Humid_Avg += float(temp['Humid_Avg'])\n",
    "            Humid_Min += float(temp['Humid_Min'])\n",
    "        \n",
    "            Wind_Max += float(temp['Wind_Max'])\n",
    "            Wind_Avg += float(temp['Wind_Avg'])\n",
    "            Wind_Min += float(temp['Wind_Min'])\n",
    "        \n",
    "            Pressure_Avg += float(temp['Pressure_Avg'])\n",
    "        \n",
    "            Precipitation_Total += float(temp['Precipitation_Total'])"
   ]
  },
  {
   "cell_type": "code",
   "execution_count": null,
   "metadata": {},
   "outputs": [],
   "source": [
    "len(final)"
   ]
  },
  {
   "cell_type": "code",
   "execution_count": null,
   "metadata": {},
   "outputs": [],
   "source": [
    "final"
   ]
  },
  {
   "cell_type": "code",
   "execution_count": null,
   "metadata": {},
   "outputs": [],
   "source": [
    "df = pd.DataFrame(data = final, columns = ['Date','Temp_Max', 'Temp_Avg', 'Temp_Min', 'Dew_Max', 'Dew_Avg', 'Dew_Min', 'Humid_Max', 'Humid_Avg','Humid_Min','Wind_Max','Wind_Avg','Wind_Min','Pressure_Max', 'Pressure_Avg','Pressure_Min', 'Precipitation_Total'])"
   ]
  },
  {
   "cell_type": "markdown",
   "metadata": {},
   "source": [
    "# CSV File is generated here "
   ]
  },
  {
   "cell_type": "code",
   "execution_count": null,
   "metadata": {},
   "outputs": [],
   "source": [
    "df.to_csv('climate_Agra_Potato_210.csv') "
   ]
  },
  {
   "cell_type": "code",
   "execution_count": null,
   "metadata": {},
   "outputs": [],
   "source": [
    "#for row2 in pd.date_range(end=row1, periods= days_required):\n",
    "        #temp = climate[climate['Date Format'] == row2]\n",
    "        #print(row2)\n",
    "        '''Temp_Avg += int(temp['Temp_Avg'])\n",
    "        Dew_Avg += int(temp['Dew_Avg'])\n",
    "        Humid_Avg += int(temp['Humid_Avg'])\n",
    "        Wind_Avg += int(temp['Wind_Avg']) \n",
    "        Pressure_Avg += int(temp['Pressure_Avg'])\n",
    "        Precipitation_Total += int(temp['Precipitation_Total'])\n",
    "    final.append([row1,Temp_Avg / month_required, Dew_Avg/month_required, Humid_Avg/month_required, Wind_Avg/month_required, Pressure_Avg/month_required,Precipitation_Total/month_required])'''\n",
    "'''for row1 in vegetables['Price Date']:\n",
    "    Temp_Avg, Dew_Avg,Humid_Avg,Wind_Avg,Pressure_Avg, Precipitation_Total = 0,0,0,0,0,0\n",
    "    temp = climate[climate['Date Format'] == row1]\n",
    "    print(temp)'''\n",
    "'''\n",
    "Temp_Max += temp['Temp_Max'].astype(float)\n",
    "        Temp_Avg += temp['Temp_Avg'].astype(float)\n",
    "        Temp_Min += temp['Temp_Min'].astype(float)\n",
    "        \n",
    "        Dew_Max += temp['Dew_Max'].astype(float)\n",
    "        Dew_Avg += temp['Dew_Avg'].astype(float)\n",
    "        Dew_Min += temp['Dew_Min'].astype(float)\n",
    "        \n",
    "        Humid_Max += temp['Humid_Max'].astype(float)\n",
    "        Humid_Avg += temp['Humid_Avg'].astype(float)\n",
    "        Humid_Min += temp['Humid_Min'].astype(float)\n",
    "        \n",
    "        Wind_Max += temp['Wind_Max'].astype(float)\n",
    "        Wind_Avg += temp['Wind_Avg'].astype(float)\n",
    "        Wind_Min += temp['Wind_Min'].astype(float)\n",
    "        \n",
    "        Pressure_Avg += temp['Pressure_Avg'].astype(float)\n",
    "        \n",
    "        Precipitation_Total += temp['Precipitation_Total'].astype(float)\n",
    "    final.append([row1,Temp_Max/days_required,Temp_Avg / days_required, Temp_Min / days_required,Dew_Min/ days_required,Dew_Avg/ days_required, Dew_Min/ days_required, Humid_Max/ days_required,Humid_Avg/ days_required, Humid_Min/ days_required, Wind_Max/ days_required, Wind_Avg/ days_required, Wind_Min/ days_required, Pressure_Max/ days_required, Pressure_Avg/ days_required, Pressure_Min/ days_required, Precipitation_Total/ days_required])\n",
    "    \n",
    "Temp_Max += int(temp['Temp_Max'])\n",
    "        Temp_Avg += int(temp['Temp_Avg'])\n",
    "        Temp_Min += int(temp['Temp_Min'])\n",
    "        \n",
    "        Dew_Max += int(temp['Dew_Max'])\n",
    "        Dew_Avg += int(temp['Dew_Avg'])\n",
    "        Dew_Min += int(temp['Dew_Min'])\n",
    "        \n",
    "        Humid_Max += int(temp['Humid_Max'])\n",
    "        Humid_Avg += int(temp['Humid_Avg'])\n",
    "        Humid_Min += int(temp['Humid_Min'])\n",
    "        \n",
    "        Wind_Max += int(temp['Wind_Max'])\n",
    "        Wind_Avg += int(temp['Wind_Avg'])\n",
    "        Wind_Min += int(temp['Wind_Min'])\n",
    "        \n",
    "        Pressure_Avg += int(temp['Pressure_Avg'])\n",
    "        \n",
    "        Precipitation_Total += int(temp['Precipitation_Total'])\n",
    "'''"
   ]
  }
 ],
 "metadata": {
  "kernelspec": {
   "display_name": "Python 3",
   "language": "python",
   "name": "python3"
  },
  "language_info": {
   "codemirror_mode": {
    "name": "ipython",
    "version": 3
   },
   "file_extension": ".py",
   "mimetype": "text/x-python",
   "name": "python",
   "nbconvert_exporter": "python",
   "pygments_lexer": "ipython3",
   "version": "3.8.1"
  }
 },
 "nbformat": 4,
 "nbformat_minor": 2
}
