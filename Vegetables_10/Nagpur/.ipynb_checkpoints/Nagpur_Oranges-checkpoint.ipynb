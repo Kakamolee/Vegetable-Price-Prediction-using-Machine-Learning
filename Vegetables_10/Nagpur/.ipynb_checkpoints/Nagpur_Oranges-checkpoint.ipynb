{
 "cells": [
  {
   "cell_type": "markdown",
   "metadata": {},
   "source": [
    "# Vegetable Price Prediction Using Machine Learning\n",
    "Implemented for West Bengal, Kolkata district, Bara Bazar market (Commodity = Onion) "
   ]
  },
  {
   "cell_type": "code",
   "execution_count": 1,
   "metadata": {},
   "outputs": [],
   "source": [
    "import numpy as np\n",
    "import matplotlib.pyplot as plt\n",
    "import seaborn as sns\n",
    "import pandas as pd\n",
    "import time\n",
    "%matplotlib inline"
   ]
  },
  {
   "cell_type": "markdown",
   "metadata": {},
   "source": [
    "# Reading Dataset\n",
    "Vegetable Data is taken from https://agmarknet.gov.in"
   ]
  },
  {
   "cell_type": "code",
   "execution_count": 2,
   "metadata": {},
   "outputs": [
    {
     "data": {
      "text/html": [
       "<div>\n",
       "<style scoped>\n",
       "    .dataframe tbody tr th:only-of-type {\n",
       "        vertical-align: middle;\n",
       "    }\n",
       "\n",
       "    .dataframe tbody tr th {\n",
       "        vertical-align: top;\n",
       "    }\n",
       "\n",
       "    .dataframe thead th {\n",
       "        text-align: right;\n",
       "    }\n",
       "</style>\n",
       "<table border=\"1\" class=\"dataframe\">\n",
       "  <thead>\n",
       "    <tr style=\"text-align: right;\">\n",
       "      <th></th>\n",
       "      <th>Sl no.</th>\n",
       "      <th>District Name</th>\n",
       "      <th>Market Name</th>\n",
       "      <th>Commodity</th>\n",
       "      <th>Variety</th>\n",
       "      <th>Grade</th>\n",
       "      <th>Min Price (Rs./Quintal)</th>\n",
       "      <th>Max Price (Rs./Quintal)</th>\n",
       "      <th>Modal Price (Rs./Quintal)</th>\n",
       "      <th>Price Date</th>\n",
       "    </tr>\n",
       "  </thead>\n",
       "  <tbody>\n",
       "    <tr>\n",
       "      <th>0</th>\n",
       "      <td>1</td>\n",
       "      <td>Nagpur</td>\n",
       "      <td>Bhiwapur</td>\n",
       "      <td>Orange</td>\n",
       "      <td>Other</td>\n",
       "      <td>FAQ</td>\n",
       "      <td>4000</td>\n",
       "      <td>9000</td>\n",
       "      <td>6200</td>\n",
       "      <td>11-Dec-19</td>\n",
       "    </tr>\n",
       "    <tr>\n",
       "      <th>1</th>\n",
       "      <td>2</td>\n",
       "      <td>Nagpur</td>\n",
       "      <td>Bhiwapur</td>\n",
       "      <td>Orange</td>\n",
       "      <td>Other</td>\n",
       "      <td>FAQ</td>\n",
       "      <td>4000</td>\n",
       "      <td>8050</td>\n",
       "      <td>6425</td>\n",
       "      <td>02-Dec-19</td>\n",
       "    </tr>\n",
       "    <tr>\n",
       "      <th>2</th>\n",
       "      <td>3</td>\n",
       "      <td>Nagpur</td>\n",
       "      <td>Bhiwapur</td>\n",
       "      <td>Orange</td>\n",
       "      <td>Other</td>\n",
       "      <td>FAQ</td>\n",
       "      <td>3000</td>\n",
       "      <td>7000</td>\n",
       "      <td>5000</td>\n",
       "      <td>22-Nov-19</td>\n",
       "    </tr>\n",
       "    <tr>\n",
       "      <th>3</th>\n",
       "      <td>4</td>\n",
       "      <td>Nagpur</td>\n",
       "      <td>Bhiwapur</td>\n",
       "      <td>Orange</td>\n",
       "      <td>Other</td>\n",
       "      <td>FAQ</td>\n",
       "      <td>3000</td>\n",
       "      <td>6000</td>\n",
       "      <td>4500</td>\n",
       "      <td>15-Nov-19</td>\n",
       "    </tr>\n",
       "    <tr>\n",
       "      <th>4</th>\n",
       "      <td>5</td>\n",
       "      <td>Nagpur</td>\n",
       "      <td>Bhiwapur</td>\n",
       "      <td>Orange</td>\n",
       "      <td>Other</td>\n",
       "      <td>FAQ</td>\n",
       "      <td>3000</td>\n",
       "      <td>60006</td>\n",
       "      <td>4500</td>\n",
       "      <td>08-Nov-19</td>\n",
       "    </tr>\n",
       "  </tbody>\n",
       "</table>\n",
       "</div>"
      ],
      "text/plain": [
       "   Sl no. District Name Market Name Commodity Variety Grade  \\\n",
       "0       1        Nagpur    Bhiwapur    Orange   Other   FAQ   \n",
       "1       2        Nagpur    Bhiwapur    Orange   Other   FAQ   \n",
       "2       3        Nagpur    Bhiwapur    Orange   Other   FAQ   \n",
       "3       4        Nagpur    Bhiwapur    Orange   Other   FAQ   \n",
       "4       5        Nagpur    Bhiwapur    Orange   Other   FAQ   \n",
       "\n",
       "   Min Price (Rs./Quintal)  Max Price (Rs./Quintal)  \\\n",
       "0                     4000                     9000   \n",
       "1                     4000                     8050   \n",
       "2                     3000                     7000   \n",
       "3                     3000                     6000   \n",
       "4                     3000                    60006   \n",
       "\n",
       "   Modal Price (Rs./Quintal) Price Date  \n",
       "0                       6200  11-Dec-19  \n",
       "1                       6425  02-Dec-19  \n",
       "2                       5000  22-Nov-19  \n",
       "3                       4500  15-Nov-19  \n",
       "4                       4500  08-Nov-19  "
      ]
     },
     "execution_count": 2,
     "metadata": {},
     "output_type": "execute_result"
    }
   ],
   "source": [
    "vegetables = pd.read_csv('Nagpur_Oranges.csv')\n",
    "vegetables.head()"
   ]
  },
  {
   "cell_type": "markdown",
   "metadata": {},
   "source": [
    "# Data Selection\n",
    "\n",
    "select District Name == Kolkata <br>\n",
    "Select Market Name == Bara Bazar (Posta Bazar) <br>\n",
    "Then Select Variety == Jyoti"
   ]
  },
  {
   "cell_type": "code",
   "execution_count": 3,
   "metadata": {},
   "outputs": [
    {
     "data": {
      "text/html": [
       "<div>\n",
       "<style scoped>\n",
       "    .dataframe tbody tr th:only-of-type {\n",
       "        vertical-align: middle;\n",
       "    }\n",
       "\n",
       "    .dataframe tbody tr th {\n",
       "        vertical-align: top;\n",
       "    }\n",
       "\n",
       "    .dataframe thead th {\n",
       "        text-align: right;\n",
       "    }\n",
       "</style>\n",
       "<table border=\"1\" class=\"dataframe\">\n",
       "  <thead>\n",
       "    <tr style=\"text-align: right;\">\n",
       "      <th></th>\n",
       "      <th>Sl no.</th>\n",
       "      <th>District Name</th>\n",
       "      <th>Market Name</th>\n",
       "      <th>Commodity</th>\n",
       "      <th>Variety</th>\n",
       "      <th>Grade</th>\n",
       "      <th>Min Price (Rs./Quintal)</th>\n",
       "      <th>Max Price (Rs./Quintal)</th>\n",
       "      <th>Modal Price (Rs./Quintal)</th>\n",
       "      <th>Price Date</th>\n",
       "    </tr>\n",
       "  </thead>\n",
       "  <tbody>\n",
       "    <tr>\n",
       "      <th>15</th>\n",
       "      <td>16</td>\n",
       "      <td>Nagpur</td>\n",
       "      <td>Nagpur</td>\n",
       "      <td>Orange</td>\n",
       "      <td>Other</td>\n",
       "      <td>FAQ</td>\n",
       "      <td>900</td>\n",
       "      <td>3100</td>\n",
       "      <td>2550</td>\n",
       "      <td>30-Dec-19</td>\n",
       "    </tr>\n",
       "    <tr>\n",
       "      <th>16</th>\n",
       "      <td>17</td>\n",
       "      <td>Nagpur</td>\n",
       "      <td>Nagpur</td>\n",
       "      <td>Orange</td>\n",
       "      <td>Other</td>\n",
       "      <td>FAQ</td>\n",
       "      <td>800</td>\n",
       "      <td>3100</td>\n",
       "      <td>2525</td>\n",
       "      <td>28-Dec-19</td>\n",
       "    </tr>\n",
       "    <tr>\n",
       "      <th>17</th>\n",
       "      <td>18</td>\n",
       "      <td>Nagpur</td>\n",
       "      <td>Nagpur</td>\n",
       "      <td>Orange</td>\n",
       "      <td>Other</td>\n",
       "      <td>FAQ</td>\n",
       "      <td>800</td>\n",
       "      <td>3100</td>\n",
       "      <td>2525</td>\n",
       "      <td>26-Dec-19</td>\n",
       "    </tr>\n",
       "    <tr>\n",
       "      <th>18</th>\n",
       "      <td>19</td>\n",
       "      <td>Nagpur</td>\n",
       "      <td>Nagpur</td>\n",
       "      <td>Orange</td>\n",
       "      <td>Other</td>\n",
       "      <td>FAQ</td>\n",
       "      <td>900</td>\n",
       "      <td>3200</td>\n",
       "      <td>2625</td>\n",
       "      <td>24-Dec-19</td>\n",
       "    </tr>\n",
       "    <tr>\n",
       "      <th>19</th>\n",
       "      <td>20</td>\n",
       "      <td>Nagpur</td>\n",
       "      <td>Nagpur</td>\n",
       "      <td>Orange</td>\n",
       "      <td>Other</td>\n",
       "      <td>FAQ</td>\n",
       "      <td>900</td>\n",
       "      <td>3000</td>\n",
       "      <td>2475</td>\n",
       "      <td>23-Dec-19</td>\n",
       "    </tr>\n",
       "  </tbody>\n",
       "</table>\n",
       "</div>"
      ],
      "text/plain": [
       "    Sl no. District Name Market Name Commodity Variety Grade  \\\n",
       "15      16        Nagpur      Nagpur    Orange   Other   FAQ   \n",
       "16      17        Nagpur      Nagpur    Orange   Other   FAQ   \n",
       "17      18        Nagpur      Nagpur    Orange   Other   FAQ   \n",
       "18      19        Nagpur      Nagpur    Orange   Other   FAQ   \n",
       "19      20        Nagpur      Nagpur    Orange   Other   FAQ   \n",
       "\n",
       "    Min Price (Rs./Quintal)  Max Price (Rs./Quintal)  \\\n",
       "15                      900                     3100   \n",
       "16                      800                     3100   \n",
       "17                      800                     3100   \n",
       "18                      900                     3200   \n",
       "19                      900                     3000   \n",
       "\n",
       "    Modal Price (Rs./Quintal) Price Date  \n",
       "15                       2550  30-Dec-19  \n",
       "16                       2525  28-Dec-19  \n",
       "17                       2525  26-Dec-19  \n",
       "18                       2625  24-Dec-19  \n",
       "19                       2475  23-Dec-19  "
      ]
     },
     "execution_count": 3,
     "metadata": {},
     "output_type": "execute_result"
    }
   ],
   "source": [
    "vegetables = vegetables[vegetables['District Name'] == \"Nagpur\"]\n",
    "vegetables = vegetables[vegetables['Market Name'] == \"Nagpur\"]\n",
    "vegetables = vegetables[vegetables['Commodity'] == \"Orange\"]\n",
    "vegetables.head()"
   ]
  },
  {
   "cell_type": "code",
   "execution_count": 4,
   "metadata": {},
   "outputs": [],
   "source": [
    "vegetables['Price Date'] = pd.to_datetime(vegetables['Price Date'])\n",
    "#vegetables['Price Date'] = vegetables['Price Date'].dt.day\n",
    "#vegetables = vegetables.iloc[::-1]\n",
    "#vegetables.tail(10)\n",
    "date = vegetables['Price Date']\n",
    "date = np.reshape(np.array(date), (len(date),1))\n",
    "df = pd.DataFrame(data = date, columns = ['Price_Date'])\n",
    "df = df.iloc[::-1]\n",
    "df.reset_index(inplace=True)\n",
    "df.drop(['index'], axis=1,inplace=True)\n",
    "df.head(5)\n",
    "df.to_csv(\"Nagpur_Oranges_Date.csv\")"
   ]
  },
  {
   "cell_type": "markdown",
   "metadata": {},
   "source": [
    "# Reading Climate Data\n",
    "Weather Data is taken from https://www.wunderground.com/ "
   ]
  },
  {
   "cell_type": "code",
   "execution_count": 5,
   "metadata": {},
   "outputs": [
    {
     "name": "stdout",
     "output_type": "stream",
     "text": [
      "   index  Sl no. District Name Market Name Commodity Variety Grade  \\\n",
      "0    155     156        Nagpur      Nagpur    Orange   Other   FAQ   \n",
      "1    154     155        Nagpur      Nagpur    Orange   Other   FAQ   \n",
      "2    153     154        Nagpur      Nagpur    Orange   Other   FAQ   \n",
      "3    152     153        Nagpur      Nagpur    Orange   Other   FAQ   \n",
      "4    151     152        Nagpur      Nagpur    Orange   Other   FAQ   \n",
      "\n",
      "   Min Price (Rs./Quintal)  Max Price (Rs./Quintal)  \\\n",
      "0                      700                     2400   \n",
      "1                      700                     2400   \n",
      "2                      700                     2300   \n",
      "3                      700                     2300   \n",
      "4                      700                     2100   \n",
      "\n",
      "   Modal Price (Rs./Quintal)  ...    Dew_Avg    Dew_Min  Humid_Max  Humid_Avg  \\\n",
      "0                       1975  ...  41.339630  36.488889  52.259259  38.308148   \n",
      "1                       1975  ...  41.420185  36.557407  52.392593  38.392037   \n",
      "2                       1900  ...  41.506667  36.637037  52.535185  38.484444   \n",
      "3                       2125  ...  41.689074  36.801852  52.829630  38.683148   \n",
      "4                       1750  ...  41.879074  36.966667  53.118519  38.887963   \n",
      "\n",
      "   Humid_Min  Wind_Max  Wind_Avg  Wind_Min  Pressure_Avg  Precipitation_Total  \n",
      "0  24.818519  6.688889  2.395926  0.188889     19.386481                  0.0  \n",
      "1  24.851852  6.698148  2.397407  0.188889     19.440185                  0.0  \n",
      "2  24.898148  6.707407  2.398889  0.188889     19.493889                  0.0  \n",
      "3  25.014815  6.722222  2.404259  0.188889     19.596667                  0.0  \n",
      "4  25.133333  6.751852  2.413519  0.188889     19.703704                  0.0  \n",
      "\n",
      "[5 rows x 25 columns]\n",
      "(141, 15)\n"
     ]
    }
   ],
   "source": [
    "climate = pd.read_csv('Climate_Nagpur_Oranges.csv')\n",
    "vegetables.reset_index(inplace=True)\n",
    "vegetables[['Temp_Max', 'Temp_Avg', 'Temp_Min', 'Dew_Max', 'Dew_Avg', 'Dew_Min', 'Humid_Max', 'Humid_Avg','Humid_Min','Wind_Max','Wind_Avg','Wind_Min','Pressure_Avg','Precipitation_Total']] = climate[['Temp_Max', 'Temp_Avg', 'Temp_Min', 'Dew_Max', 'Dew_Avg', 'Dew_Min', 'Humid_Max', 'Humid_Avg','Humid_Min','Wind_Max','Wind_Avg','Wind_Min', 'Pressure_Avg', 'Precipitation_Total']]\n",
    "print(vegetables.head())\n",
    "data = vegetables[['Price Date', 'Modal Price (Rs./Quintal)', 'Temp_Max', 'Temp_Avg', 'Temp_Min', 'Dew_Max', 'Dew_Avg', 'Dew_Min', 'Humid_Max', 'Humid_Avg','Humid_Min','Wind_Max','Wind_Avg','Wind_Min','Pressure_Avg', 'Precipitation_Total']] \n",
    "X = vegetables[['Price Date','Temp_Max', 'Temp_Avg', 'Temp_Min', 'Dew_Max', 'Dew_Avg', 'Dew_Min', 'Humid_Max', 'Humid_Avg','Humid_Min','Wind_Max','Wind_Avg','Wind_Min', 'Pressure_Avg', 'Precipitation_Total']]\n",
    "y = vegetables[['Modal Price (Rs./Quintal)']]\n",
    "print(X.shape)\n",
    "\n",
    "df = pd.DataFrame(data = X, columns = list(X.columns))\n",
    "df.to_csv('Nagpur_Oranges_X.csv') \n",
    "df = pd.DataFrame(data = y, columns = list(y.columns))\n",
    "df.to_csv('Nagpur_Oranges_y.csv') "
   ]
  },
  {
   "cell_type": "code",
   "execution_count": null,
   "metadata": {},
   "outputs": [
    {
     "data": {
      "text/plain": [
       "<seaborn.axisgrid.PairGrid at 0x1b6de130>"
      ]
     },
     "execution_count": 8,
     "metadata": {},
     "output_type": "execute_result"
    }
   ],
   "source": [
    "sns.pairplot(data)"
   ]
  },
  {
   "cell_type": "markdown",
   "metadata": {},
   "source": [
    "# Data is splitted into train and test set."
   ]
  },
  {
   "cell_type": "code",
   "execution_count": null,
   "metadata": {},
   "outputs": [],
   "source": [
    "from sklearn.model_selection import train_test_split\n",
    "from sklearn.ensemble import RandomForestRegressor\n",
    "from sklearn.svm import SVR\n",
    "import math"
   ]
  },
  {
   "cell_type": "code",
   "execution_count": null,
   "metadata": {},
   "outputs": [],
   "source": [
    "X_train, X_test, y_train, y_test = train_test_split(X[:-1], y[:-1], test_size=0.3, random_state=42, shuffle = True)"
   ]
  },
  {
   "cell_type": "markdown",
   "metadata": {},
   "source": [
    "# Implementation Of Algorithm \n",
    "Implementing Random Forest algorithm"
   ]
  },
  {
   "cell_type": "code",
   "execution_count": null,
   "metadata": {},
   "outputs": [],
   "source": [
    "start = time.time()\n",
    "regr = RandomForestRegressor(n_estimators = 200,max_depth=300, random_state=42, criterion=\"mae\", min_samples_split=2, oob_score = True)\n",
    "regr.fit(X_train,np.reshape(np.array(y_train), (len(y_train), )))\n",
    "end = time.time()\n",
    "print(f\"Runtime of the program is {end - start}\")"
   ]
  },
  {
   "cell_type": "code",
   "execution_count": null,
   "metadata": {},
   "outputs": [],
   "source": [
    "predicted = regr.predict(X_test)"
   ]
  },
  {
   "cell_type": "markdown",
   "metadata": {},
   "source": [
    "# Accuracy For Training and Testing Set"
   ]
  },
  {
   "cell_type": "code",
   "execution_count": null,
   "metadata": {},
   "outputs": [],
   "source": [
    "#print(y_test, predicted)\n",
    "print(regr.score(X_train, y_train))\n",
    "print(regr.score(X_test, y_test))"
   ]
  },
  {
   "cell_type": "markdown",
   "metadata": {},
   "source": [
    "# Feature Importance"
   ]
  },
  {
   "cell_type": "code",
   "execution_count": 17,
   "metadata": {},
   "outputs": [
    {
     "name": "stdout",
     "output_type": "stream",
     "text": [
      "Price Date -> 0.10263923293730251\n",
      "Temp_Max -> 0.06608777115193643\n",
      "Temp_Avg -> 0.07162159923235435\n",
      "Temp_Min -> 0.09631826801636013\n",
      "Dew_Max -> 0.08030095608243794\n",
      "Dew_Avg -> 0.06315224711506393\n",
      "Dew_Min -> 0.06852929461658086\n",
      "Humid_Max -> 0.05840188868171094\n",
      "Humid_Avg -> 0.06788009877257471\n",
      "Humid_Min -> 0.06487469392650284\n",
      "Wind_Max -> 0.09171055567859356\n",
      "Wind_Avg -> 0.07387605603677777\n",
      "Wind_Min -> 0.025240652673463936\n",
      "Pressure_Avg -> 0.06936668507834023\n",
      "Precipitation_Total -> 0.0\n"
     ]
    }
   ],
   "source": [
    "a = np.reshape(regr.feature_importances_, (len(regr.feature_importances_),1))\n",
    "a = a.tolist()\n",
    "col = X.columns\n",
    "for i in range(0,15):\n",
    "    print(col[i],  \"->\" , a[i][0])"
   ]
  },
  {
   "cell_type": "markdown",
   "metadata": {},
   "source": [
    "# predicted vs Actual"
   ]
  },
  {
   "cell_type": "code",
   "execution_count": 18,
   "metadata": {},
   "outputs": [
    {
     "name": "stdout",
     "output_type": "stream",
     "text": [
      "2443.905->2650\n",
      "2607.375->2750\n",
      "1977.6275->2000\n",
      "2468.465->2525\n",
      "1808.6875->1750\n",
      "1840.1875->1775\n",
      "2745.775->2750\n",
      "2565.665->2875\n",
      "2632.685->2500\n",
      "2451.745->2500\n",
      "2497.56->2500\n",
      "2375.75->2150\n",
      "2584.25->2730\n",
      "1917.9375->2025\n",
      "2429.08->2750\n",
      "2607.54->2800\n",
      "1821.9375->1775\n",
      "1997.1875->2075\n",
      "2483.75->2450\n",
      "2463.145->2500\n",
      "1762.5625->1750\n",
      "2448.875->2500\n",
      "2448.5->2175\n",
      "1893.8125->1750\n",
      "2447.675->2450\n",
      "1995.8125->2000\n",
      "2548.31->2525\n",
      "2546.465->2854\n",
      "1845.3125->1900\n",
      "1914.3125->1800\n",
      "1790.5625->1775\n",
      "2471.56->2650\n",
      "2548.935->1850\n",
      "2497.715->2300\n",
      "1916.6925->2075\n",
      "1930.9375->2150\n",
      "2334.105->2875\n",
      "2566.375->2475\n",
      "2600.125->2450\n",
      "1954.9375->1975\n",
      "1827.8225->2075\n",
      "2119.9375->2000\n"
     ]
    }
   ],
   "source": [
    "b= y_test.values\n",
    "b = b.reshape((len(b),))\n",
    "l = len(b)\n",
    "sum_a = 0\n",
    "for i in range(len(predicted)):\n",
    "    print(str(predicted[i]) +\"->\"+ str(b[i]))\n",
    "    sum_a = sum_a + abs(predicted[i] - b[i])"
   ]
  },
  {
   "cell_type": "code",
   "execution_count": 19,
   "metadata": {},
   "outputs": [
    {
     "name": "stdout",
     "output_type": "stream",
     "text": [
      "139.5402976190476\n"
     ]
    }
   ],
   "source": [
    "print(sum_a/l)"
   ]
  },
  {
   "cell_type": "markdown",
   "metadata": {},
   "source": [
    "# Create picke file"
   ]
  },
  {
   "cell_type": "code",
   "execution_count": 20,
   "metadata": {},
   "outputs": [],
   "source": [
    "import pickle\n",
    "filename = 'Nagpur_Oranges'\n",
    "outfile = open(filename,'wb')\n",
    "pickle.dump(regr,outfile)\n",
    "outfile.close()"
   ]
  },
  {
   "cell_type": "code",
   "execution_count": 21,
   "metadata": {},
   "outputs": [],
   "source": [
    "filename = 'Nagpur_Oranges'\n",
    "with open(filename, \"rb\") as f:\n",
    "    rf = pickle.load(f)\n",
    "predicted = rf.predict(X)\n",
    "actual= np.reshape(np.array(y),(len(y),))\n",
    "#print(predicted,actual)\n",
    "sum = 0\n",
    "for i in range(len(predicted)):\n",
    "    #print(str(actual[i]) + \"->\" + str(predicted[i]))\n",
    "    sum = sum +abs(actual[i] - predicted[i])\n",
    "f.close()"
   ]
  },
  {
   "cell_type": "markdown",
   "metadata": {},
   "source": [
    "# Total Error"
   ]
  },
  {
   "cell_type": "code",
   "execution_count": 22,
   "metadata": {},
   "outputs": [
    {
     "name": "stdout",
     "output_type": "stream",
     "text": [
      "79.69468085106382\n"
     ]
    }
   ],
   "source": [
    "print(sum/len(actual))"
   ]
  },
  {
   "cell_type": "code",
   "execution_count": null,
   "metadata": {},
   "outputs": [],
   "source": []
  }
 ],
 "metadata": {
  "kernelspec": {
   "display_name": "Python 3",
   "language": "python",
   "name": "python3"
  },
  "language_info": {
   "codemirror_mode": {
    "name": "ipython",
    "version": 3
   },
   "file_extension": ".py",
   "mimetype": "text/x-python",
   "name": "python",
   "nbconvert_exporter": "python",
   "pygments_lexer": "ipython3",
   "version": "3.8.1"
  }
 },
 "nbformat": 4,
 "nbformat_minor": 2
}
