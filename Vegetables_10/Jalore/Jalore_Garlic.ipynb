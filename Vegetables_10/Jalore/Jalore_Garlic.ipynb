{
 "cells": [
  {
   "cell_type": "markdown",
   "metadata": {},
   "source": [
    "# Vegetable Price Prediction Using Machine Learning\n",
    "Implemented for Jalore,Jalore market (Commodity = Garlic) "
   ]
  },
  {
   "cell_type": "code",
   "execution_count": 1,
   "metadata": {},
   "outputs": [],
   "source": [
    "import numpy as np\n",
    "import matplotlib.pyplot as plt\n",
    "import seaborn as sns\n",
    "import pandas as pd\n",
    "import time\n",
    "%matplotlib inline"
   ]
  },
  {
   "cell_type": "markdown",
   "metadata": {},
   "source": [
    "# Reading Dataset\n",
    "Vegetable Data is taken from https://agmarknet.gov.in"
   ]
  },
  {
   "cell_type": "code",
   "execution_count": 2,
   "metadata": {},
   "outputs": [
    {
     "data": {
      "text/plain": [
       "91"
      ]
     },
     "execution_count": 2,
     "metadata": {},
     "output_type": "execute_result"
    }
   ],
   "source": [
    "vegetables = pd.read_csv('Jalore_Garlic.csv')\n",
    "vegetables.head()\n",
    "len(vegetables)"
   ]
  },
  {
   "cell_type": "markdown",
   "metadata": {},
   "source": [
    "# Data Selection\n",
    "\n",
    "select District Name == Jalore <br>\n",
    "Select Market Name == Jalore <br>\n",
    "Then Select Commodity == Garlic"
   ]
  },
  {
   "cell_type": "code",
   "execution_count": 3,
   "metadata": {},
   "outputs": [
    {
     "data": {
      "text/html": [
       "<div>\n",
       "<style scoped>\n",
       "    .dataframe tbody tr th:only-of-type {\n",
       "        vertical-align: middle;\n",
       "    }\n",
       "\n",
       "    .dataframe tbody tr th {\n",
       "        vertical-align: top;\n",
       "    }\n",
       "\n",
       "    .dataframe thead th {\n",
       "        text-align: right;\n",
       "    }\n",
       "</style>\n",
       "<table border=\"1\" class=\"dataframe\">\n",
       "  <thead>\n",
       "    <tr style=\"text-align: right;\">\n",
       "      <th></th>\n",
       "      <th>Sl no.</th>\n",
       "      <th>District Name</th>\n",
       "      <th>Market Name</th>\n",
       "      <th>Commodity</th>\n",
       "      <th>Variety</th>\n",
       "      <th>Grade</th>\n",
       "      <th>Min Price (Rs./Quintal)</th>\n",
       "      <th>Max Price (Rs./Quintal)</th>\n",
       "      <th>Modal Price (Rs./Quintal)</th>\n",
       "      <th>Price Date</th>\n",
       "    </tr>\n",
       "  </thead>\n",
       "  <tbody>\n",
       "    <tr>\n",
       "      <th>0</th>\n",
       "      <td>1</td>\n",
       "      <td>Jalore</td>\n",
       "      <td>Jalore</td>\n",
       "      <td>Garlic</td>\n",
       "      <td>Other</td>\n",
       "      <td>FAQ</td>\n",
       "      <td>14000</td>\n",
       "      <td>15000</td>\n",
       "      <td>14500</td>\n",
       "      <td>28-Dec-19</td>\n",
       "    </tr>\n",
       "    <tr>\n",
       "      <th>1</th>\n",
       "      <td>2</td>\n",
       "      <td>Jalore</td>\n",
       "      <td>Jalore</td>\n",
       "      <td>Garlic</td>\n",
       "      <td>Other</td>\n",
       "      <td>FAQ</td>\n",
       "      <td>140</td>\n",
       "      <td>150</td>\n",
       "      <td>145</td>\n",
       "      <td>21-Nov-19</td>\n",
       "    </tr>\n",
       "    <tr>\n",
       "      <th>2</th>\n",
       "      <td>3</td>\n",
       "      <td>Jalore</td>\n",
       "      <td>Jalore</td>\n",
       "      <td>Garlic</td>\n",
       "      <td>Other</td>\n",
       "      <td>FAQ</td>\n",
       "      <td>140</td>\n",
       "      <td>150</td>\n",
       "      <td>145</td>\n",
       "      <td>20-Nov-19</td>\n",
       "    </tr>\n",
       "    <tr>\n",
       "      <th>3</th>\n",
       "      <td>4</td>\n",
       "      <td>Jalore</td>\n",
       "      <td>Jalore</td>\n",
       "      <td>Garlic</td>\n",
       "      <td>Other</td>\n",
       "      <td>FAQ</td>\n",
       "      <td>140</td>\n",
       "      <td>150</td>\n",
       "      <td>145</td>\n",
       "      <td>19-Nov-19</td>\n",
       "    </tr>\n",
       "    <tr>\n",
       "      <th>4</th>\n",
       "      <td>5</td>\n",
       "      <td>Jalore</td>\n",
       "      <td>Jalore</td>\n",
       "      <td>Garlic</td>\n",
       "      <td>Other</td>\n",
       "      <td>FAQ</td>\n",
       "      <td>5500</td>\n",
       "      <td>6000</td>\n",
       "      <td>5750</td>\n",
       "      <td>08-Sep-19</td>\n",
       "    </tr>\n",
       "  </tbody>\n",
       "</table>\n",
       "</div>"
      ],
      "text/plain": [
       "   Sl no. District Name Market Name Commodity Variety Grade  \\\n",
       "0       1        Jalore      Jalore    Garlic   Other   FAQ   \n",
       "1       2        Jalore      Jalore    Garlic   Other   FAQ   \n",
       "2       3        Jalore      Jalore    Garlic   Other   FAQ   \n",
       "3       4        Jalore      Jalore    Garlic   Other   FAQ   \n",
       "4       5        Jalore      Jalore    Garlic   Other   FAQ   \n",
       "\n",
       "   Min Price (Rs./Quintal)  Max Price (Rs./Quintal)  \\\n",
       "0                    14000                    15000   \n",
       "1                      140                      150   \n",
       "2                      140                      150   \n",
       "3                      140                      150   \n",
       "4                     5500                     6000   \n",
       "\n",
       "   Modal Price (Rs./Quintal) Price Date  \n",
       "0                      14500  28-Dec-19  \n",
       "1                        145  21-Nov-19  \n",
       "2                        145  20-Nov-19  \n",
       "3                        145  19-Nov-19  \n",
       "4                       5750  08-Sep-19  "
      ]
     },
     "execution_count": 3,
     "metadata": {},
     "output_type": "execute_result"
    }
   ],
   "source": [
    "vegetables = vegetables[vegetables['District Name'] == \"Jalore\"]\n",
    "vegetables = vegetables[vegetables['Market Name'] == \"Jalore\"]\n",
    "vegetables.head()"
   ]
  },
  {
   "cell_type": "code",
   "execution_count": 4,
   "metadata": {},
   "outputs": [],
   "source": [
    "vegetables['Price Date'] = pd.to_datetime(vegetables['Price Date'])\n",
    "#vegetables['Price Date'] = vegetables['Price Date'].dt.day\n",
    "#vegetables = vegetables.iloc[::-1]\n",
    "#vegetables.tail(10)\n",
    "date = vegetables['Price Date']\n",
    "date = np.reshape(np.array(date), (len(date),1))\n",
    "df = pd.DataFrame(data = date, columns = ['Price_Date'])\n",
    "df = df.iloc[::-1]\n",
    "df.reset_index(inplace=True)\n",
    "df.drop(['index'], axis=1,inplace=True)\n",
    "df.head(5)\n",
    "df.to_csv(\"Jalore_Garlic_Date.csv\")"
   ]
  },
  {
   "cell_type": "markdown",
   "metadata": {},
   "source": [
    "# Reading Climate Data\n",
    "Weather Data is taken from https://www.wunderground.com/ "
   ]
  },
  {
   "cell_type": "code",
   "execution_count": 5,
   "metadata": {},
   "outputs": [
    {
     "name": "stdout",
     "output_type": "stream",
     "text": [
      "   index  Sl no. District Name Market Name Commodity Variety Grade  \\\n",
      "0     81      82        Jalore      Jalore    Garlic   Other   FAQ   \n",
      "1     80      81        Jalore      Jalore    Garlic   Other   FAQ   \n",
      "2     79      80        Jalore      Jalore    Garlic   Other   FAQ   \n",
      "3     78      79        Jalore      Jalore    Garlic   Other   FAQ   \n",
      "4     77      78        Jalore      Jalore    Garlic   Other   FAQ   \n",
      "\n",
      "   Min Price (Rs./Quintal)  Max Price (Rs./Quintal)  \\\n",
      "0                     1400                     1600   \n",
      "1                     1200                     1400   \n",
      "2                     1200                     1400   \n",
      "3                     1000                     1200   \n",
      "4                     1300                     1500   \n",
      "\n",
      "   Modal Price (Rs./Quintal)  ...    Dew_Avg    Dew_Min  Humid_Max  Humid_Avg  \\\n",
      "0                       1500  ...  56.292222  46.422222  66.844444  47.630000   \n",
      "1                       1300  ...  56.108148  46.418519  68.303704  48.890370   \n",
      "2                       1300  ...  55.981111  46.277778  71.433333  51.115556   \n",
      "3                       1100  ...  56.031481  46.296296  72.018519  51.571111   \n",
      "4                       1400  ...  55.124815  45.440741  75.159259  53.754815   \n",
      "\n",
      "   Humid_Min   Wind_Max  Wind_Avg  Wind_Min  Pressure_Avg  Precipitation_Total  \n",
      "0  28.251852  13.377778  5.474815  1.355556     28.243704                  0.0  \n",
      "1  29.092593  13.011111  5.365926  1.374074     28.262222                  0.0  \n",
      "2  30.177778  12.529630  5.092222  1.203704     28.401852                  0.0  \n",
      "3  30.429630  12.485185  5.075185  1.200000     28.404074                  0.0  \n",
      "4  31.529630  11.566667  4.946667  1.174074     28.441111                  0.0  \n",
      "\n",
      "[5 rows x 25 columns]\n",
      "(82, 15)\n"
     ]
    }
   ],
   "source": [
    "climate = pd.read_csv('climate_Jalore_Garlic.csv')\n",
    "vegetables.reset_index(inplace=True)\n",
    "vegetables[['Temp_Max', 'Temp_Avg', 'Temp_Min', 'Dew_Max', 'Dew_Avg', 'Dew_Min', 'Humid_Max', 'Humid_Avg','Humid_Min','Wind_Max','Wind_Avg','Wind_Min','Pressure_Avg','Precipitation_Total']] = climate[['Temp_Max', 'Temp_Avg', 'Temp_Min', 'Dew_Max', 'Dew_Avg', 'Dew_Min', 'Humid_Max', 'Humid_Avg','Humid_Min','Wind_Max','Wind_Avg','Wind_Min', 'Pressure_Avg', 'Precipitation_Total']]\n",
    "print(vegetables.head())\n",
    "data = vegetables[['Price Date', 'Modal Price (Rs./Quintal)', 'Temp_Max', 'Temp_Avg', 'Temp_Min', 'Dew_Max', 'Dew_Avg', 'Dew_Min', 'Humid_Max', 'Humid_Avg','Humid_Min','Wind_Max','Wind_Avg','Wind_Min','Pressure_Avg', 'Precipitation_Total']] \n",
    "X = vegetables[['Price Date','Temp_Max', 'Temp_Avg', 'Temp_Min', 'Dew_Max', 'Dew_Avg', 'Dew_Min', 'Humid_Max', 'Humid_Avg','Humid_Min','Wind_Max','Wind_Avg','Wind_Min', 'Pressure_Avg', 'Precipitation_Total']]\n",
    "y = vegetables[['Modal Price (Rs./Quintal)']]\n",
    "print(X.shape)\n",
    "\n",
    "df = pd.DataFrame(data = X, columns = list(X.columns))\n",
    "df.to_csv('Jalore_Garlic_X.csv') \n",
    "df = pd.DataFrame(data = y, columns = list(y.columns))\n",
    "df.to_csv('Jalore_Garlic_y.csv') "
   ]
  },
  {
   "cell_type": "code",
   "execution_count": null,
   "metadata": {},
   "outputs": [
    {
     "data": {
      "text/plain": [
       "<seaborn.axisgrid.PairGrid at 0x1b1dd5b0>"
      ]
     },
     "execution_count": 24,
     "metadata": {},
     "output_type": "execute_result"
    }
   ],
   "source": [
    "sns.pairplot(data)"
   ]
  },
  {
   "cell_type": "markdown",
   "metadata": {},
   "source": [
    "# Data is splitted into train and test set."
   ]
  },
  {
   "cell_type": "code",
   "execution_count": null,
   "metadata": {},
   "outputs": [],
   "source": [
    "from sklearn.model_selection import train_test_split\n",
    "from sklearn.ensemble import RandomForestRegressor\n",
    "from sklearn.svm import SVR\n",
    "import math"
   ]
  },
  {
   "cell_type": "code",
   "execution_count": null,
   "metadata": {},
   "outputs": [],
   "source": [
    "X_train, X_test, y_train, y_test = train_test_split(X[:-1], y[:-1], test_size=0.3, random_state=42, shuffle = True)"
   ]
  },
  {
   "cell_type": "markdown",
   "metadata": {},
   "source": [
    "# Implementation Of Algorithm \n",
    "Implementing Random Forest algorithm"
   ]
  },
  {
   "cell_type": "code",
   "execution_count": null,
   "metadata": {},
   "outputs": [],
   "source": [
    "start = time.time()\n",
    "regr = RandomForestRegressor(n_estimators = 1000,max_depth=3000, random_state=20, criterion=\"mae\", min_samples_split=2, oob_score = True)\n",
    "regr.fit(X_train,np.reshape(np.array(y_train), (len(y_train), )))\n",
    "end = time.time()\n",
    "print(f\"Runtime of the program is {end - start}\")"
   ]
  },
  {
   "cell_type": "code",
   "execution_count": null,
   "metadata": {},
   "outputs": [],
   "source": [
    "predicted = regr.predict(X_test)"
   ]
  },
  {
   "cell_type": "markdown",
   "metadata": {},
   "source": [
    "# Accuracy For Training and Testing Set"
   ]
  },
  {
   "cell_type": "code",
   "execution_count": null,
   "metadata": {},
   "outputs": [],
   "source": [
    "#print(y_test, predicted)\n",
    "print(regr.score(X_train, y_train))\n",
    "print(regr.score(X_test, y_test))"
   ]
  },
  {
   "cell_type": "markdown",
   "metadata": {},
   "source": [
    "# Feature Importance"
   ]
  },
  {
   "cell_type": "code",
   "execution_count": null,
   "metadata": {},
   "outputs": [],
   "source": [
    "a = np.reshape(regr.feature_importances_, (len(regr.feature_importances_),1))\n",
    "a = a.tolist()\n",
    "col = X.columns\n",
    "for i in range(0,15):\n",
    "    print(col[i],  \"->\" , a[i][0])"
   ]
  },
  {
   "cell_type": "markdown",
   "metadata": {},
   "source": [
    "# predicted vs Actual"
   ]
  },
  {
   "cell_type": "code",
   "execution_count": null,
   "metadata": {},
   "outputs": [],
   "source": [
    "b= y_test.values\n",
    "b = b.reshape((len(b),))\n",
    "l = len(b)\n",
    "sum_a = 0\n",
    "for i in range(len(predicted)):\n",
    "    print(str(predicted[i]) +\"->\"+ str(b[i]))\n",
    "    sum_a = sum_a + abs(predicted[i] - b[i])"
   ]
  },
  {
   "cell_type": "code",
   "execution_count": null,
   "metadata": {},
   "outputs": [],
   "source": [
    "print(sum_a/l)"
   ]
  },
  {
   "cell_type": "markdown",
   "metadata": {},
   "source": [
    "# Create picke file"
   ]
  },
  {
   "cell_type": "code",
   "execution_count": null,
   "metadata": {},
   "outputs": [],
   "source": [
    "import pickle\n",
    "filename = 'Jalore_Garlic'\n",
    "outfile = open(filename,'wb')\n",
    "pickle.dump(regr,outfile)\n",
    "outfile.close()"
   ]
  },
  {
   "cell_type": "code",
   "execution_count": null,
   "metadata": {},
   "outputs": [],
   "source": [
    "filename = 'Jalore_Garlic'\n",
    "with open(filename, \"rb\") as f:\n",
    "    rf = pickle.load(f)\n",
    "predicted = rf.predict(X)\n",
    "actual= np.reshape(np.array(y),(len(y),))\n",
    "#print(predicted,actual)\n",
    "sum = 0\n",
    "for i in range(len(predicted)):\n",
    "    #print(str(actual[i]) + \"->\" + str(predicted[i]))\n",
    "    sum = sum +abs(actual[i] - predicted[i])\n",
    "f.close()"
   ]
  },
  {
   "cell_type": "markdown",
   "metadata": {},
   "source": [
    "# Total Error"
   ]
  },
  {
   "cell_type": "code",
   "execution_count": null,
   "metadata": {},
   "outputs": [],
   "source": [
    "print(sum/len(actual)) "
   ]
  },
  {
   "cell_type": "code",
   "execution_count": null,
   "metadata": {},
   "outputs": [],
   "source": []
  }
 ],
 "metadata": {
  "kernelspec": {
   "display_name": "Python 3",
   "language": "python",
   "name": "python3"
  },
  "language_info": {
   "codemirror_mode": {
    "name": "ipython",
    "version": 3
   },
   "file_extension": ".py",
   "mimetype": "text/x-python",
   "name": "python",
   "nbconvert_exporter": "python",
   "pygments_lexer": "ipython3",
   "version": "3.8.1"
  }
 },
 "nbformat": 4,
 "nbformat_minor": 2
}
